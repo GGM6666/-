{
 "cells": [
  {
   "cell_type": "markdown",
   "id": "eb20bae9",
   "metadata": {},
   "source": [
    "\n",
    "# <center>协同过滤算法及其python实现</center>\n",
    "\n",
    "### <center>班级：18应用数学&emsp;&emsp;&emsp;姓名：顾光明&emsp;&emsp;&emsp;学号：51805011031</center>"
   ]
  },
  {
   "cell_type": "markdown",
   "id": "8b205bf2",
   "metadata": {},
   "source": [
    "## 一、发展简史\n",
    "\n",
    "### &emsp;Tapestry（1992）\n",
    "\n",
    "\n",
    "&emsp;&emsp;这是最早应用协同过滤系统的设计，主要是解决Xerox公司在Palo Alto的研究中心资讯过载的问题。这个研究中心的员工每天会收到非常多的电子邮件却无从筛选分类，于是研究中心便发展这项实验性的邮件系统来帮助员工解决这项问题。 其运作机制大致如下：\n",
    "个人决定自己的感兴趣的邮件类型；个人旋即随机发出一项资讯需求，可预测的结果是会收到非常多相关的文件；从这些文件中个人选出至少三笔资料是其认为有用、会想要看的；系统便将之记录起来成为个人邮件系统内的过滤器，从此以后经过过滤的文件会最先送达信箱；以上是协同过滤最早的应用，接下来的里程碑为GroupLens。\n",
    "\n",
    "\n",
    "### &emsp;GroupLens（1994）\n",
    "\n",
    " \n",
    "&emsp;&emsp;这个系统主要是应用在新闻的筛选上， 帮助新闻的阅听者过滤其感兴趣的新闻内容，阅听者看过内容后给一个评比的分数，系统会将分数记录起来以备未来参考之用，假设前提是阅听者以前感兴趣的东西在未来也会有兴趣阅听，若阅听者不愿揭露自己的身分也可以匿名进行评分。 和Tapestry不同之处有两点，首先，Tapestry专指一个点（如一个网站内、一个系统内）的过滤机制；GroupLens则是跨点跨系统的新闻过滤机制。再来，Tapestry不会将同一笔资料的评比总和起来；GroupLens会将同一笔资料从不同使用者得到的评比加总。GroupLens具有以下特点：\n",
    "1. 开放性：所有的新闻阅听者皆可使用，虽然系统委托Better Bit Bureau设计给分的系统，但若有不同的评分机制也适用于GroupLens。\n",
    "2. 方便性：给分并不是一件困难的事情且沟通上非常方便，评分结果容易诠释。规模性：有可能发展成大规模的系统，一旦发展成大规模，储存空间与计算成本问题显得相当棘手。\n",
    "3. 隐密性：如果使用者不想让别人知道他是谁，别人就不会知道。\n",
    "由此可以看出，现今网络各个推荐系统的雏形已然形成，在GroupLens之后还有性质相近的MovieLens，电影推荐系统；Ringo，音乐推荐系统；Video Recommender，影音推荐系统；以及Jster，笑话推荐系统等等。乃至于YouTube、aNobii皆是相似性值得网络推荐平台，较不同的是经过时间推移，网络越来越发达，使用者越来越多，系统也发展得越来越严密。\n",
    "\n",
    "\n",
    "### &emsp;电子商务的推荐系统\n",
    "\n",
    "\n",
    "最著名的电子商务推荐系统应属亚马逊网络书店，顾客选择一本自己感兴趣的书籍，马上会在底下看到一行“Customer Who Bought This Item Also Bought”，亚马逊是在“对同样一本书有兴趣的读者们兴趣在某种程度上相近”的假设前提下提供这样的推荐，此举也成为亚马逊网络书店为人所津津乐道的一项服务，各网络书店也跟进做这样的推荐服务如台湾的博客来网络书店。 另外一个著名的例子是Facebook的广告，系统根据个人资料、周遭朋友感兴趣的广告等等对个人提供广告推销，也是一项协同过滤重要的里程碑，和前二者Tapestry、GroupLens不同的是在这里虽然商业气息浓厚同时还是带给使用者很大的方便。 以上为三项协同过滤发展上重要的里程碑，从早期单一系统内的邮件、文件过滤，到跨系统的新闻、电影、音乐过滤，乃至于横行互联网的电子商务，虽然目的不太相同，但带给使用者的方便是大家都不能否定的。\n",
    "\n",
    "\n",
    "## 二、算法介绍\n",
    "\n",
    "协同过滤推荐（Collaborative Filtering recommendation）是在信息过滤和信息系统中正迅速成为一项很受欢迎的技术。与传统的基于内容过滤直接分析内容进行推荐不同，协同过滤分析用户兴趣，在用户群中找到指定用户的相似（兴趣）用户，综合这些相似用户对某一信息的评价，形成系统对该指定用户对此信息的喜好程度预测。\n",
    "\n",
    "与传统文本过滤相比，协同过滤有下列优点:\n",
    "\n",
    "1. 能够过滤难以进行机器自动基于内容分析的信息。如艺术品、音乐;\n",
    "2. 能够基于一些复杂的，难以表达的概念（信息质量、品位)进行过滤;\n",
    "3. 推荐的新颖性。\n",
    "正因为如此，协同过滤在商业应用上也取得了不错的成绩。Amazon，CDNow，MovieFinder，都采用了协同过滤的技术来提高服务质量。\n",
    "\n",
    "缺点是:\n",
    "\n",
    "1. 用户对商品的评价非常稀疏，这样基于用户的评价所得到的用户间的相似性可能不准确（即稀疏性问题）;\n",
    "2. 随着用户和商品的增多，系统的性能会越来越低;\n",
    "3. 如果从来没有用户对某一商品加以评价，则这个商品就不可能被推荐（即最初评价问题）。\n",
    "因此，电子商务推荐系统都采用了几种技术相结合的推荐技术。\n",
    "\n",
    "## 三、算法细分\n",
    "\n",
    "### &emsp;（1）以用户为基础（User-based）的协同过滤\n",
    "&emsp;&emsp;用相似统计的方法得到具有相似爱好或者兴趣的相邻用户，所以称之为以用户为基础（User-based）的协同过滤或基于邻居的协同过滤(Neighbor-based Collaborative Filtering)。 方法步骤：\n",
    "1. 收集用户信息\n",
    "收集可以代表用户兴趣的信息。一般的网站系统使用评分的方式或是给予评价，这种方式被称为“主动评分”。另外一种是“被动评分”，是根据用户的行为模式由系统代替用户完成评价，不需要用户直接打分或输入评价数据。电子商务网站在被动评分的数据获取上有其优势，用户购买的商品记录是相当有用的数据。\n",
    "\n",
    "2. 最近邻搜索(Nearest neighbor search, NNS)\n",
    "以用户为基础（User-based）的协同过滤的出发点是与用户兴趣爱好相同的另一组用户，就是计算两个用户的相似度。例如：查找n个和A有相似兴趣用户，把他们对M的评分作为A对M的评分预测。一般会根据数据的不同选择不同的算法，较多使用的相似度算法有Pearson Correlation Coefficient、Cosine-based Similarity、Adjusted Cosine Similarity。\n",
    "\n",
    "3. 产生推荐结果\n",
    "有了最近邻集合，就可以对目标用户的兴趣进行预测，产生推荐结果。依据推荐目的的不同进行不同形式的推荐，较常见的推荐结果有Top-N 推荐和关系推荐。Top-N 推荐是针对个体用户产生，对每个人产生不一样的结果，例如：通过对A用户的最近邻用户进行统计，选择出现频率高且在A用户的评分项目中不存在的，作为推荐结果。关系推荐是对最近邻用户的记录进行关系规则(association rules)挖掘。\n",
    "\n",
    "&emsp;&emsp;公式:\n",
    "![](https://www.ipieuvre.com/doc/exper/7daa78b7-5382-11ea-82ba-00215ec892f4/img/20200220094838_1757602529.png \"User-Based CF公式\")\n",
    "该公式要计算用户i和用户j之间的相似度, I(ij)是代表用户i和用户j共同评价过的物品, R(i,x)代表用户i对物品x的评分, R(i)头上有一杠的代表用户i所有评分的平均分, 之所以要减去平均分是因为有的用户打分严有的松, 归一化用户打分避免相互影响。\n",
    "\n",
    "&emsp;&emsp;该公式没有考虑到热门商品可能会被很多用户所喜欢, 所以还可以优化加一下权重。在实际生产环境中, 经常用到另外一个类似的算法Slope One, 该公式是计算评分偏差, 即将共同评价过的物品, 将各自的打分相减再求平均。\n",
    "\n",
    "### &emsp;（2）以项目为基础（Item-based）的协同过滤\n",
    "\n",
    "&emsp;&emsp;以用户为基础的协同推荐算法随着用户数量的增多，计算的时间就会变长，所以在2001年Sarwar提出了基于项目的协同过滤推荐算法(Item-based Collaborative Filtering Algorithms)。以项目为基础的协同过滤方法有一个基本的假设“能够引起用户兴趣的项目，必定与其之前评分高的项目相似”，通过计算项目之间的相似性来代替用户之间的相似性。 方法步骤：\n",
    "1. 收集用户信息\n",
    "同以用户为基础（User-based）的协同过滤。\n",
    "\n",
    "2. 针对项目的最近邻搜索\n",
    "先计算已评价项目和待预测项目的相似度，并以相似度作为权重，加权各已评价项目的分数，得到待预测项目的预测值。例如：要对项目 A 和项目 B 进行相似性计算，要先找出同时对 A 和 B 打过分的组合，对这些组合进行相似度计算，常用的算法同以用户为基础（User-based）的协同过滤。\n",
    "\n",
    "3. 产生推荐结果\n",
    "以项目为基础的协同过滤不用考虑用户间的差别，所以精度比较差。但是却不需要用户的历史数据，或是进行用户识别。对于项目来讲，它们之间的相似性要稳定很多，因此可以离线完成工作量最大的相似性计算步骤，从而降低了在线计算量，提高推荐效率，尤其是在用户多于项目的情形下尤为显著。\n",
    "\n",
    "&emsp;公式:\n",
    "![](https://www.ipieuvre.com/doc/exper/7daa78b7-5382-11ea-82ba-00215ec892f4/img/20200220094723_42474480.png \"Item-Based CF公式\")\n",
    "该公式跟User-Based CF是类似\n",
    "\n",
    "\n",
    "### &emsp;（3）以模型为基础（Model- based）的协同过滤\n",
    "\n",
    "&emsp;&emsp;以用户为基础（User-based）的协同过滤和以项目为基础（Item-based）的协同过滤统称为以记忆为基础（Memory based）的协同过滤技术，他们共有的缺点是数据稀疏，难以处理大数据量影响即时结果，因此发展出以模型为基础的协同过滤技术。 以模型为基础的协同过滤(Model-based Collaborative Filtering)是先用历史数据得到一个模型，再用此模型进行预测。以模型为基础的协同过滤广泛使用的技术包括Latent Semantic Indexing、Bayesian Networks…等，根据对一个样本的分析得到模型。\n",
    "\n",
    "\n",
    "\n",
    "## 四、相似度算法\n",
    "\n",
    "### &emsp;（1）基于欧几里德距离的相似度\n",
    "\n",
    "&emsp;&emsp;欧几里德距离是一个较为简单的用户关系评价方法。原理是通过计算两个用户在散点图中的距离来判断不同的用户是否有相同的偏好。它以经过人们一致评价的物品为坐标轴，然后将参与评价的人绘制到坐标系上，并计算他们彼此之间的直线距离。计算出来的欧几里德距离是一个大于0的数，为了使其更能体现用户之间的相似度，可以把它规约到(0.1]之间，最终得到如下计算公式：\n",
    "       \n",
    "![](https://www.ipieuvre.com/doc/exper/7daa78b7-5382-11ea-82ba-00215ec892f4/img/20200220094922_80284966.jpg \"基于欧几里德距离的相似度公式\")\n",
    "\n",
    "只要至少有一个共同评分项，就能用欧几里德距离计算相似度，如果没有共同评分项，那么欧几里德距离也就失去了作用。其实照常理，如果没有共同评分项，那么意味着这两个用户或物品根本不相似。\n",
    "\n",
    "### &emsp;（2）皮尔逊相关系数\n",
    "\n",
    "&emsp;&emsp;皮尔逊相关度是另一种计算用户间关系的方法。他比欧几里德距离评价的计算要复杂一些，但对于评分数据不规范时皮尔逊相关度评价能够给出更好的结果。皮尔逊相关系数一般用户计算两个定距变量间联系的紧密度，它的取值在[-1,1]之间。用数学公式表示，皮尔逊相关系数等于两个变量协方差除于两个变量的标准差。计算公式如下所示：\n",
    "![](https://www.ipieuvre.com/doc/exper/7daa78b7-5382-11ea-82ba-00215ec892f4/img/20200220094952_1764417451.jpg \"皮尔逊相关系数计算公式\")\n",
    "\n",
    "由于皮尔逊相关系数描述的是两组数据变化移动的趋势，所以在基于用户的协同过滤系统中经常使用。描述用户购买或评分变化的趋势，若趋势相近则皮尔逊系数趋近于1，也就是我们认为相似的用户。\n",
    "\n",
    "### &emsp;（3）余弦相似度\n",
    "\n",
    "&emsp;&emsp;余弦相似度用向量空间中两个向量夹角的余弦值作为衡量两个个体间差异的大小。余弦相似度更加注重两个向量在方向上的差异，而非在距离或长度上，计算公式如下所示：\n",
    "![](https://www.ipieuvre.com/doc/exper/7daa78b7-5382-11ea-82ba-00215ec892f4/img/20200220095040_2129277451.jpg \"余弦相似度计算公式\")\n",
    "\n",
    "&emsp;&emsp;从下图可以看出距离度量衡量的是空间各点间的绝对距离，跟各点所在的位置坐标直接相关；而余弦相似度衡量的是空间向量的夹角，更加注重的是体现在方向上的差异。而不是位置。如果保持X点的位置不变，Y点朝原方向远离坐标轴原点，那么这个时候余弦相似度是保持不变的，因为夹角不变，而X、Y的距离显然在发生改变，这就是欧氏距离和余弦相似度的不同之处。\n",
    "![](https://www.ipieuvre.com/doc/exper/7daa78b7-5382-11ea-82ba-00215ec892f4/img/20200220095111_1547594052.jpg \"余弦相似度图\")"
   ]
  },
  {
   "cell_type": "markdown",
   "id": "4ce4082b",
   "metadata": {},
   "source": [
    "## 五、代码实现\n",
    "### &emsp;（1）基于项目为基础（Item-based）相似度推荐代码"
   ]
  },
  {
   "cell_type": "markdown",
   "id": "07ee8cee",
   "metadata": {},
   "source": [
    "#### &emsp;&emsp;1. 数据输入"
   ]
  },
  {
   "cell_type": "code",
   "execution_count": 1,
   "id": "210292bc",
   "metadata": {},
   "outputs": [],
   "source": [
    "import numpy as np"
   ]
  },
  {
   "cell_type": "code",
   "execution_count": 2,
   "id": "63904dc8",
   "metadata": {},
   "outputs": [],
   "source": [
    "# 编造数据\n",
    "users = [\"张三\",\"李四\",\"王二\",\"张政\",\"鸡哥\"]\n",
    "movies = [\"哥斯拉大战金刚\",\"让子弹飞\",\"速度与激情9\",\"你好李焕英\",\"刺杀小说家\",\"人潮汹涌\",\"唐人街探案3\"]\n",
    "UsMoList = [[ 1, 1, 1, 0, 1, 0, 0],\n",
    "            [ 0, 1, 1, 0, 0, 1, 0],\n",
    "            [ 1, 0, 1, 1, 1, 1, 1],\n",
    "            [ 1, 1, 1, 1, 1, 0, 0],\n",
    "            [ 1, 1, 0, 1, 0, 1, 1]]"
   ]
  },
  {
   "cell_type": "markdown",
   "id": "aeff6a93",
   "metadata": {},
   "source": [
    "#### &emsp;&emsp;2. 将行转为列"
   ]
  },
  {
   "cell_type": "code",
   "execution_count": 3,
   "id": "14eb9bad",
   "metadata": {},
   "outputs": [],
   "source": [
    "def RowConverCol():  \n",
    "    return np.array(UsMoList).transpose().tolist()"
   ]
  },
  {
   "cell_type": "markdown",
   "id": "6f59e2ab",
   "metadata": {},
   "source": [
    "#### &emsp;&emsp;3. 使用欧氏距离计算两个电影之间的相似度。"
   ]
  },
  {
   "cell_type": "code",
   "execution_count": 4,
   "id": "b158f383",
   "metadata": {},
   "outputs": [],
   "source": [
    "def euc_mv_sim(movieFirst: list, movieSecond:list):  \n",
    "    return np.sqrt(((np.array(movieFirst) - np.array(movieSecond)) ** 2).sum())"
   ]
  },
  {
   "cell_type": "markdown",
   "id": "a1043870",
   "metadata": {},
   "source": [
    "#### &emsp;&emsp;4. 计算所有电影之间的相似度。"
   ]
  },
  {
   "cell_type": "code",
   "execution_count": 5,
   "id": "c9345302",
   "metadata": {},
   "outputs": [],
   "source": [
    "def allmv_sim():  \n",
    "    resDic = {}  \n",
    "    tempList = RowConverCol()  \n",
    "    for i in range(0, len(tempList)):  \n",
    "        for j in range(i+1, len(tempList)):  \n",
    "            resDic[str(i) + '-' + str(j)] = euc_mv_sim(tempList[i], tempList[j])  \n",
    "    return resDic"
   ]
  },
  {
   "cell_type": "markdown",
   "id": "eca41dba",
   "metadata": {},
   "source": [
    "#### &emsp;&emsp;5. 计算要推荐哪些电影。"
   ]
  },
  {
   "cell_type": "code",
   "execution_count": 6,
   "id": "788daf11",
   "metadata": {},
   "outputs": [],
   "source": [
    "def comput_Rec_mo(username: str) -> list:\n",
    "    temp = {}\n",
    "    mo_sim_dic = allmv_sim()\n",
    "    userindex = users.index(username)\n",
    "    TargetUsermovieList = UsMoList[userindex]\n",
    "    for i in range(0, len(TargetUsermovieList)):\n",
    "        for j in range(i + 1, len(TargetUsermovieList)):\n",
    "            if TargetUsermovieList[i] == 1 and TargetUsermovieList[j] == 0 and (\n",
    "                    mo_sim_dic.get(str(i) + '-' + str(j)) != None or mo_sim_dic.get(str(j) + '-' + str(i)) != None):\n",
    "                sim = mo_sim_dic.get(str(i) + '-' + str(j)) if (\n",
    "                            mo_sim_dic.get(str(i) + '-' + str(j)) != None) else mo_sim_dic.get(str(j) + '-' + str(i))\n",
    "                temp[j] = sim\n",
    "            elif TargetUsermovieList[i] == 0 and TargetUsermovieList[j] == 1 and (\n",
    "                    mo_sim_dic.get(str(i) + '-' + str(j)) != None or mo_sim_dic.get(str(j) + '-' + str(i)) != None):\n",
    "                sim = mo_sim_dic.get(str(i) + '-' + str(j)) if (\n",
    "                            mo_sim_dic.get(str(i) + '-' + str(j)) != None) else mo_sim_dic.get(\n",
    "                    str(j) + '-' + str(i))\n",
    "                temp[i] = sim\n",
    "    temp = sorted(temp.items(), key=lambda d: d[1])\n",
    "    print(\"推荐列表：\", temp)\n",
    "    recommendlist = [movies[i] for i, v in temp]\n",
    "    print(\"电影推荐：\", recommendlist)\n",
    "    return recommendlist"
   ]
  },
  {
   "cell_type": "code",
   "execution_count": 7,
   "id": "3ff1dd12",
   "metadata": {},
   "outputs": [
    {
     "name": "stdout",
     "output_type": "stream",
     "text": [
      "{'0-1': 1.4142135623730951, '0-2': 1.4142135623730951, '0-3': 1.0, '0-4': 1.0, '0-5': 1.7320508075688772, '0-6': 1.4142135623730951, '1-2': 1.4142135623730951, '1-3': 1.7320508075688772, '1-4': 1.7320508075688772, '1-5': 1.7320508075688772, '1-6': 2.0, '2-3': 1.7320508075688772, '2-4': 1.0, '2-5': 1.7320508075688772, '2-6': 2.0, '3-4': 1.4142135623730951, '3-5': 1.4142135623730951, '3-6': 1.0, '4-5': 2.0, '4-6': 1.7320508075688772, '5-6': 1.0}\n",
      "推荐列表： [(1, 2.0)]\n",
      "电影推荐： ['让子弹飞']\n",
      "推荐列表： [(4, 1.7320508075688772), (2, 2.0)]\n",
      "电影推荐： ['刺杀小说家', '速度与激情9']\n"
     ]
    },
    {
     "data": {
      "text/plain": [
       "['刺杀小说家', '速度与激情9']"
      ]
     },
     "execution_count": 7,
     "metadata": {},
     "output_type": "execute_result"
    }
   ],
   "source": [
    "print(allmv_sim())\n",
    "comput_Rec_mo(\"王二\")  \n",
    "comput_Rec_mo(\"鸡哥\")"
   ]
  },
  {
   "cell_type": "markdown",
   "id": "f53ddd59",
   "metadata": {},
   "source": [
    "### （2）基于以用户为基础（User-based）的相似度推荐代码实现"
   ]
  },
  {
   "cell_type": "markdown",
   "id": "6bfdaab5",
   "metadata": {},
   "source": [
    "#### &emsp;&emsp;1. 将原始数据存储到一个用户字典dic中。"
   ]
  },
  {
   "cell_type": "code",
   "execution_count": 8,
   "id": "b9a9ba74",
   "metadata": {},
   "outputs": [],
   "source": [
    "# -*- coding=utf-8 -*-    \n",
    "import math    \n",
    "from operator import *"
   ]
  },
  {
   "cell_type": "code",
   "execution_count": 9,
   "id": "a13ad808",
   "metadata": {},
   "outputs": [],
   "source": [
    "dic = {'张三': ('哥斯拉大战金刚','让子弹飞','速度与激情9','刺杀小说家',),\n",
    "       '李四': ('让子弹飞','速度与激情9','人潮汹涌',), \n",
    "       '王二': ('哥斯拉大战金刚','速度与激情9','你好李焕英','刺杀小说家','人潮汹涌','唐人街探案3'),\n",
    "       '张政': ('哥斯拉大战金刚','让子弹飞','速度与激情9','你好李焕英','刺杀小说家'),\n",
    "       '鸡哥': ('哥斯拉大战金刚','让子弹飞','你好李焕英','人潮汹涌','唐人街探案3')} "
   ]
  },
  {
   "cell_type": "markdown",
   "id": "a3d9965b",
   "metadata": {},
   "source": [
    "#### &emsp;&emsp;2. 将dic字典转成商品-用户字典并计算相似度。"
   ]
  },
  {
   "cell_type": "code",
   "execution_count": 10,
   "id": "ebc5573f",
   "metadata": {},
   "outputs": [],
   "source": [
    "def userSim(dicc):    \n",
    "    #把用户-商品字典转成商品-用户字典  \n",
    "    item_user=dict()    \n",
    "    for u,items in dicc.items():    \n",
    "        for i in items:  \n",
    "            if i not in item_user.keys():    \n",
    "                item_user[i]=set()  \n",
    "            item_user[i].add(u)    \n",
    "    \n",
    "    C=dict()#真实数据集为数字编号，但这里是字符，这里还用字典。    \n",
    "    N=dict()    \n",
    "    for item,users in item_user.items():    \n",
    "        for u in users:    \n",
    "            if u not in N.keys():    \n",
    "                N[u]=0     \n",
    "            N[u]+=1 #每个商品下用户出现一次就加一次，就是计算每个用户一共购买的商品个数。    \n",
    "              \n",
    "            for v in users:    \n",
    "                if u==v:    \n",
    "                    continue    \n",
    "                if (u,v) not in C.keys():#同上，没有初始值不能+=    \n",
    "                    C[u,v]=0    \n",
    "                C[u,v]+=1    \n",
    "#到这里倒排阵就建立好了，下面是计算相似度。    \n",
    "    W=dict()    \n",
    "    for co_user,cuv in C.items():    \n",
    "        W[co_user]=cuv / math.sqrt(N[co_user[0]]*N[co_user[1]])    \n",
    "    return W "
   ]
  },
  {
   "cell_type": "markdown",
   "id": "03a5d5d0",
   "metadata": {},
   "source": [
    "#### &emsp;&emsp;3. 找到K个相关用户以及对应兴趣相似度，按兴趣相似度从大到小排列。 "
   ]
  },
  {
   "cell_type": "code",
   "execution_count": 11,
   "id": "d5dcd428",
   "metadata": {},
   "outputs": [],
   "source": [
    "def userRec(user,dicc,W2,K):    \n",
    "    rvi=1 #这里都是1,实际中可能每个用户就不一样了。就像每个人都喜欢beautiful girl,但有的喜欢可爱的多一些，有的喜欢御姐多一些。    \n",
    "    rank=dict()    \n",
    "    related_user=[]    \n",
    "    interacted_items=dicc[user]    \n",
    "    for co_user,item in W2.items():    \n",
    "        if co_user[0]==user:    \n",
    "            related_user.append((co_user[1],item))#先建立一个和待推荐用户兴趣相关的所有的用户列表。    \n",
    "    for v,wuv in sorted(related_user,key=itemgetter(1),reverse=True)[0:K]:    \n",
    "        for i in dicc[v]:    \n",
    "            if i in interacted_items:    \n",
    "                continue   \n",
    "            if i not in rank.keys():  \n",
    "                rank[i]=0    \n",
    "            rank[i]+=wuv*rvi    \n",
    "    return rank"
   ]
  },
  {
   "cell_type": "code",
   "execution_count": 12,
   "id": "21250100",
   "metadata": {},
   "outputs": [
    {
     "name": "stdout",
     "output_type": "stream",
     "text": [
      "{'让子弹飞': 1.4605934866804429}\n",
      "{'速度与激情9': 1.3302967433402215, '刺杀小说家': 1.3302967433402215}\n"
     ]
    }
   ],
   "source": [
    "if __name__=='__main__':    \n",
    "    W3=userSim(dic)    \n",
    "    Last_Rank=userRec('王二',dic,W3,2)    \n",
    "    print (Last_Rank)\n",
    "    \n",
    "    W5=userSim(dic)    \n",
    "    Last_Rank=userRec('鸡哥',dic,W5,2)    \n",
    "    print (Last_Rank)"
   ]
  },
  {
   "cell_type": "markdown",
   "id": "0f3189d2",
   "metadata": {},
   "source": [
    "## 六、学习总结\n",
    "&emsp;协同过滤作为一种经典的推荐算法种类，在工业界应用广泛，它的优点很多，模型通用性强，不需要太多对应数据领域的专业知识，工程实现简单，效果也不错。这些都是它流行的原因。\n",
    "\n",
    "&emsp;当然，协同过滤也有些难以避免的难题，比如令人头疼的“冷启动”问题，我们没有新用户任何数据的时候，无法较好的为新用户推荐物品。同时也没有考虑情景的差异，比如根据用户所在的场景和用户当前的情绪。当然，也无法得到一些小众的独特喜好，这块是基于内容的推荐比较擅长的。"
   ]
  },
  {
   "cell_type": "markdown",
   "id": "e88997e7",
   "metadata": {},
   "source": [
    "   "
   ]
  }
 ],
 "metadata": {
  "kernelspec": {
   "display_name": "Python 3",
   "language": "python",
   "name": "python3"
  },
  "language_info": {
   "codemirror_mode": {
    "name": "ipython",
    "version": 3
   },
   "file_extension": ".py",
   "mimetype": "text/x-python",
   "name": "python",
   "nbconvert_exporter": "python",
   "pygments_lexer": "ipython3",
   "version": "3.8.8"
  }
 },
 "nbformat": 4,
 "nbformat_minor": 5
}
